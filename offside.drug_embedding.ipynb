{
 "cells": [
  {
   "cell_type": "code",
   "execution_count": 1,
   "metadata": {},
   "outputs": [],
   "source": [
    "import pandas as pd\n",
    "import numpy as np\n",
    "from sklearn.model_selection import train_test_split\n",
    "from sklearn.preprocessing import StandardScaler\n",
    "from sklearn.neighbors import KNeighborsClassifier\n",
    "from sklearn.metrics import confusion_matrix\n",
    "from sklearn.metrics import f1_score\n",
    "from sklearn.metrics import accuracy_score"
   ]
  },
  {
   "cell_type": "code",
   "execution_count": 2,
   "metadata": {},
   "outputs": [
    {
     "name": "stdout",
     "output_type": "stream",
     "text": [
      "300\n",
      "   Methoxamine  pazopanib   Betaine  ioversol  Moricizine  Tetrofosmin  \\\n",
      "0     0.017247   0.007961 -0.063701 -0.043919    0.024263     0.040614   \n",
      "1    -0.041623   0.075804 -0.334263  0.095424    0.000796     0.011437   \n",
      "2     0.190152  -0.126302  0.005715 -0.080937   -0.203299     0.026808   \n",
      "3     0.157794   0.021697 -0.237033 -0.058357   -0.044682    -0.007127   \n",
      "4     0.221838  -0.000749 -0.570003 -0.168058   -0.049307    -0.046850   \n",
      "\n",
      "   Ticlopidine  glimepiride  Iothalamic Acid  Buprenorphine  ...  Ethamsylate  \\\n",
      "0     0.025450    -0.013580        -0.012309      -0.004083  ...    -0.016790   \n",
      "1    -0.021015     0.006967        -0.197068       0.049864  ...    -0.112515   \n",
      "2    -0.021011     0.122890        -0.152093       0.029875  ...     0.225788   \n",
      "3     0.044908    -0.001245        -0.011849       0.176401  ...    -0.006181   \n",
      "4     0.250354    -0.185083         0.061384      -0.007641  ...     0.062186   \n",
      "\n",
      "   Nafronyl  Thioctate  potassium bromide  Carbomer 1342   Propane  \\\n",
      "0  0.025414  -0.021220           0.026938      -0.005127  0.017596   \n",
      "1  0.000710   0.226812          -0.157135      -0.083778  0.108269   \n",
      "2  0.047438   0.213900           0.002101       0.034888 -0.054087   \n",
      "3 -0.013464  -0.020609           0.017165       0.004559  0.090909   \n",
      "4 -0.125088   0.187883           0.132806       0.166600  0.223751   \n",
      "\n",
      "   Vitamin B Complex  Sodium Phosphate, Dibasic  triazulenone  Dextran 70  \n",
      "0          -0.028249                  -0.002860     -0.006013    0.015535  \n",
      "1           0.015521                  -0.163402      0.103968    0.074914  \n",
      "2           0.015280                  -0.029798     -0.025060    0.124856  \n",
      "3           0.248485                   0.117470     -0.131685    0.165084  \n",
      "4          -0.215253                   0.316018     -0.111427    0.239538  \n",
      "\n",
      "[5 rows x 2213 columns]\n"
     ]
    }
   ],
   "source": [
    "dataset = pd.read_csv('drug_embedding.csv')\n",
    "print(len(dataset))\n",
    "print(dataset.head())"
   ]
  },
  {
   "cell_type": "code",
   "execution_count": 3,
   "metadata": {},
   "outputs": [
    {
     "data": {
      "text/plain": [
       "Index(['Methoxamine', 'pazopanib', 'Betaine', 'ioversol', 'Moricizine',\n",
       "       'Tetrofosmin', 'Ticlopidine', 'glimepiride', 'Iothalamic Acid',\n",
       "       'Buprenorphine',\n",
       "       ...\n",
       "       'Ethamsylate', 'Nafronyl', 'Thioctate', 'potassium bromide',\n",
       "       'Carbomer 1342', 'Propane', 'Vitamin B Complex',\n",
       "       'Sodium Phosphate, Dibasic', 'triazulenone', 'Dextran 70'],\n",
       "      dtype='object', length=2213)"
      ]
     },
     "execution_count": 3,
     "metadata": {},
     "output_type": "execute_result"
    }
   ],
   "source": [
    "dataset.columns"
   ]
  },
  {
   "cell_type": "code",
   "execution_count": 4,
   "metadata": {},
   "outputs": [],
   "source": [
    "X = dataset.iloc[:, 10].values.reshape(-1, 1)  # Features\n",
    "Y = dataset.iloc[:, 8].values  # Labels\n",
    "X_train, X_test, Y_train, Y_test = train_test_split(X, Y, random_state=0, test_size=0.2)\n",
    "\n",
    "\n",
    "scaler = StandardScaler()\n",
    "X_train_scaled = scaler.fit_transform(X_train)\n",
    "X_test_scaled = scaler.transform(X_test)\n",
    "\n",
    "\n",
    "Y_train_categorical = pd.cut(Y_train, bins=5, labels=False)\n",
    "Y_test_categorical = pd.cut(Y_test, bins=5, labels=False)\n",
    "\n",
    "# k-NN classifier\n",
    "classifier = KNeighborsClassifier(n_neighbors=15, p=2, metric='euclidean')\n",
    "classifier.fit(X_train_scaled, Y_train_categorical)\n",
    "\n",
    "y_pred_categorical = classifier.predict(X_test_scaled)"
   ]
  },
  {
   "cell_type": "code",
   "execution_count": 6,
   "metadata": {},
   "outputs": [
    {
     "name": "stdout",
     "output_type": "stream",
     "text": [
      "confusion matrix [[ 0  0  1  0  0]\n",
      " [ 0  1  8  0  0]\n",
      " [ 0  1 35  0  0]\n",
      " [ 0  1 11  0  0]\n",
      " [ 0  0  2  0  0]]\n"
     ]
    }
   ],
   "source": [
    "conf = confusion_matrix(Y_test_categorical, y_pred_categorical)\n",
    "print('confusion matrix', conf)"
   ]
  },
  {
   "cell_type": "code",
   "execution_count": 7,
   "metadata": {},
   "outputs": [
    {
     "name": "stdout",
     "output_type": "stream",
     "text": [
      "F1 Score: 0.47661290322580646\n"
     ]
    }
   ],
   "source": [
    "f1 = f1_score(Y_test_categorical, y_pred_categorical, average='weighted') \n",
    "print(\"F1 Score:\", f1)"
   ]
  },
  {
   "cell_type": "code",
   "execution_count": 8,
   "metadata": {},
   "outputs": [
    {
     "name": "stdout",
     "output_type": "stream",
     "text": [
      "Accuracy Score: 0.6\n"
     ]
    }
   ],
   "source": [
    "accuracy = accuracy_score(Y_test_categorical, y_pred_categorical)\n",
    "print(\"Accuracy Score:\", accuracy)"
   ]
  }
 ],
 "metadata": {
  "kernelspec": {
   "display_name": "Python 3",
   "language": "python",
   "name": "python3"
  },
  "language_info": {
   "codemirror_mode": {
    "name": "ipython",
    "version": 3
   },
   "file_extension": ".py",
   "mimetype": "text/x-python",
   "name": "python",
   "nbconvert_exporter": "python",
   "pygments_lexer": "ipython3",
   "version": "3.12.1"
  }
 },
 "nbformat": 4,
 "nbformat_minor": 2
}

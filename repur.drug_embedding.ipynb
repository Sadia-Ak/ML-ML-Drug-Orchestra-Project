{
 "cells": [
  {
   "cell_type": "code",
   "execution_count": 1,
   "metadata": {},
   "outputs": [],
   "source": [
    "import pandas as pd\n",
    "import numpy as np\n",
    "from sklearn.model_selection import train_test_split\n",
    "from sklearn.preprocessing import StandardScaler\n",
    "from sklearn.neighbors import KNeighborsClassifier\n",
    "from sklearn.metrics import confusion_matrix\n",
    "from sklearn.metrics import f1_score\n",
    "from sklearn.metrics import accuracy_score"
   ]
  },
  {
   "cell_type": "code",
   "execution_count": 2,
   "metadata": {},
   "outputs": [
    {
     "name": "stdout",
     "output_type": "stream",
     "text": [
      "300\n",
      "   pyrvinium-pamoate   A205804   EUK-134  daunorubicin  dexniguldipine  \\\n",
      "0          -0.006054  0.000506 -0.011725     -0.005724       -0.010652   \n",
      "1           0.130309  0.068734 -0.032970      0.040210        0.007962   \n",
      "2          -0.053154  0.063960  0.027820      0.110401        0.029102   \n",
      "3           0.294405  0.209754  0.002412     -0.132192       -0.074386   \n",
      "4           0.216226  0.015498 -0.169008      0.054968       -0.137887   \n",
      "\n",
      "   beclomethasone      SNAP   AZD3463  amflutizole  pipotiazine  ...  \\\n",
      "0        0.018029 -0.000721  0.004899    -0.005324    -0.004234  ...   \n",
      "1       -0.000337 -0.045450  0.119616     0.140661     0.008128  ...   \n",
      "2        0.049825 -0.025751 -0.003509    -0.031793    -0.139935  ...   \n",
      "3       -0.135147 -0.039456 -0.049063     0.168349    -0.136895  ...   \n",
      "4       -0.007779  0.167150  0.142278     0.109497    -0.211754  ...   \n",
      "\n",
      "   SUN-B-8155   AZD9668  LY310762   MK-1775  LY2603618   TP-0903  ibrolipim  \\\n",
      "0   -0.002826 -0.003448  0.010602 -0.026348   0.019810 -0.009661  -0.015284   \n",
      "1   -0.034011 -0.116839 -0.052250  0.061961  -0.128987  0.065088  -0.010165   \n",
      "2   -0.143642 -0.095699  0.003741 -0.083098   0.021294 -0.090004   0.075599   \n",
      "3    0.208311 -0.067521 -0.009923  0.136882   0.074310  0.207147   0.116133   \n",
      "4    0.175494 -0.114465  0.092965 -0.230238  -0.006994  0.082732  -0.054250   \n",
      "\n",
      "   STF-118804  cyclic-AMP  glycopyrrolate  \n",
      "0   -0.023080   -0.017596        0.018725  \n",
      "1   -0.053838    0.071432       -0.054934  \n",
      "2   -0.069429    0.011925        0.123249  \n",
      "3    0.077327   -0.196083       -0.053917  \n",
      "4    0.009007   -0.075917       -0.011841  \n",
      "\n",
      "[5 rows x 4048 columns]\n"
     ]
    }
   ],
   "source": [
    "dataset = pd.read_csv('drug_embedding.csv')\n",
    "print(len(dataset))\n",
    "print(dataset.head())"
   ]
  },
  {
   "cell_type": "code",
   "execution_count": 3,
   "metadata": {},
   "outputs": [],
   "source": [
    "X = dataset.iloc[:, 10].values.reshape(-1, 1)  # Features\n",
    "Y = dataset.iloc[:, 8].values  # Labels\n",
    "X_train, X_test, Y_train, Y_test = train_test_split(X, Y, random_state=0, test_size=0.2)\n",
    "\n",
    "\n",
    "scaler = StandardScaler()\n",
    "X_train_scaled = scaler.fit_transform(X_train)\n",
    "X_test_scaled = scaler.transform(X_test)\n",
    "\n",
    "\n",
    "Y_train_categorical = pd.cut(Y_train, bins=5, labels=False)\n",
    "Y_test_categorical = pd.cut(Y_test, bins=5, labels=False)\n",
    "\n",
    "# k-NN classifier\n",
    "classifier = KNeighborsClassifier(n_neighbors=15, p=2, metric='euclidean')\n",
    "classifier.fit(X_train_scaled, Y_train_categorical)\n",
    "\n",
    "y_pred_categorical = classifier.predict(X_test_scaled)"
   ]
  },
  {
   "cell_type": "code",
   "execution_count": 4,
   "metadata": {},
   "outputs": [
    {
     "name": "stdout",
     "output_type": "stream",
     "text": [
      "confusion matrix [[ 0  1  7  4  0]\n",
      " [ 0  2 18  4  0]\n",
      " [ 0  0 12  3  0]\n",
      " [ 0  1  3  2  0]\n",
      " [ 0  0  3  0  0]]\n"
     ]
    }
   ],
   "source": [
    "conf = confusion_matrix(Y_test_categorical, y_pred_categorical)\n",
    "print('confusion matrix', conf)"
   ]
  },
  {
   "cell_type": "code",
   "execution_count": 5,
   "metadata": {},
   "outputs": [
    {
     "name": "stdout",
     "output_type": "stream",
     "text": [
      "F1 Score: 0.18164376458387346\n"
     ]
    }
   ],
   "source": [
    "f1 = f1_score(Y_test_categorical, y_pred_categorical, average='weighted') \n",
    "print(\"F1 Score:\", f1)"
   ]
  },
  {
   "cell_type": "code",
   "execution_count": 6,
   "metadata": {},
   "outputs": [
    {
     "name": "stdout",
     "output_type": "stream",
     "text": [
      "Accuracy Score: 0.26666666666666666\n"
     ]
    }
   ],
   "source": [
    "accuracy = accuracy_score(Y_test_categorical, y_pred_categorical)\n",
    "print(\"Accuracy Score:\", accuracy)"
   ]
  }
 ],
 "metadata": {
  "kernelspec": {
   "display_name": "Python 3",
   "language": "python",
   "name": "python3"
  },
  "language_info": {
   "codemirror_mode": {
    "name": "ipython",
    "version": 3
   },
   "file_extension": ".py",
   "mimetype": "text/x-python",
   "name": "python",
   "nbconvert_exporter": "python",
   "pygments_lexer": "ipython3",
   "version": "3.12.1"
  }
 },
 "nbformat": 4,
 "nbformat_minor": 2
}

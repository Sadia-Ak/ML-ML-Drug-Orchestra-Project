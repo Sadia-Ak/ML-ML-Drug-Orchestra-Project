{
 "cells": [
  {
   "cell_type": "code",
   "execution_count": 2,
   "metadata": {},
   "outputs": [],
   "source": [
    "import pandas as pd\n",
    "import numpy as np\n",
    "from sklearn.model_selection import train_test_split\n",
    "from sklearn.preprocessing import StandardScaler\n",
    "from sklearn.neighbors import KNeighborsClassifier\n",
    "from sklearn.metrics import confusion_matrix\n",
    "from sklearn.metrics import f1_score\n",
    "from sklearn.metrics import accuracy_score\n"
   ]
  },
  {
   "cell_type": "code",
   "execution_count": 3,
   "metadata": {},
   "outputs": [
    {
     "name": "stdout",
     "output_type": "stream",
     "text": [
      "300\n",
      "   Monoisopropylphosphorylserine   Heparin  N,N-dimethylglycine  \\\n",
      "0                       0.019025 -0.030460            -0.003457   \n",
      "1                      -0.098076 -0.021950            -0.064426   \n",
      "2                       0.167589  0.040664             0.037584   \n",
      "3                       0.029540 -0.042136             0.059411   \n",
      "4                       0.108366  0.182456            -0.016930   \n",
      "\n",
      "   5-(2-METHOXYPHENYL)-2-FUROIC ACID  \\\n",
      "0                           0.007247   \n",
      "1                          -0.138912   \n",
      "2                          -0.122577   \n",
      "3                           0.178150   \n",
      "4                          -0.087986   \n",
      "\n",
      "   N~4~-(3-methyl-1H-indazol-6-yl)-N~2~-(3,4,5-trimethoxyphenyl)pyrimidine-2,4-diamine  \\\n",
      "0                                           0.007044                                     \n",
      "1                                          -0.016831                                     \n",
      "2                                          -0.136665                                     \n",
      "3                                           0.006843                                     \n",
      "4                                          -0.102049                                     \n",
      "\n",
      "   Nintedanib  \\\n",
      "0   -0.021269   \n",
      "1   -0.098363   \n",
      "2   -0.145452   \n",
      "3    0.224845   \n",
      "4    0.063330   \n",
      "\n",
      "   4-(3-{[5-(trifluoromethyl)pyridin-2-yl]oxy}benzyl)piperidine-1-carboxylic acid  \\\n",
      "0                                          -0.018586                                \n",
      "1                                          -0.047738                                \n",
      "2                                          -0.071347                                \n",
      "3                                           0.093544                                \n",
      "4                                           0.128712                                \n",
      "\n",
      "   Fosinopril  \\\n",
      "0    0.022818   \n",
      "1   -0.102256   \n",
      "2    0.067432   \n",
      "3   -0.015463   \n",
      "4   -0.025356   \n",
      "\n",
      "   1-tert-butyl-3-(3-methylbenzyl)-1H-pyrazolo[3,4-d]pyrimidin-4-amine  \\\n",
      "0                                           0.005981                     \n",
      "1                                           0.017979                     \n",
      "2                                           0.016262                     \n",
      "3                                           0.110955                     \n",
      "4                                           0.028439                     \n",
      "\n",
      "   (3S)-3-hydroxy-1-methyl-2,3-dihydro-1H-indole-5,6-dione  ...  Muraglitazar  \\\n",
      "0                                          -0.021692        ...     -0.011606   \n",
      "1                                          -0.023744        ...     -0.134311   \n",
      "2                                           0.049433        ...      0.013397   \n",
      "3                                          -0.123674        ...     -0.116978   \n",
      "4                                          -0.412698        ...      0.042491   \n",
      "\n",
      "   CTS-1027   Taurine  4-(2-HYDROXYPHENYLTHIO)-1-BUTENYLPHOSPHONIC ACID  \\\n",
      "0  0.013595 -0.018523                                         -0.018092   \n",
      "1  0.074086 -0.114629                                         -0.058411   \n",
      "2 -0.128787 -0.056018                                          0.214931   \n",
      "3 -0.086816 -0.093955                                          0.014595   \n",
      "4 -0.145653  0.207296                                          0.239958   \n",
      "\n",
      "   Carmustine  4-{[(CYCLOHEXYLAMINO)CARBONYL]AMINO}BUTANOIC ACID  Cinoxacin  \\\n",
      "0   -0.003559                                          -0.010230   0.026225   \n",
      "1    0.134028                                          -0.184224  -0.220084   \n",
      "2    0.078043                                           0.098327   0.151779   \n",
      "3    0.064718                                          -0.089475  -0.057264   \n",
      "4    0.034207                                           0.099183  -0.028649   \n",
      "\n",
      "   Fenoldopam  Diflunisal  2-(1H-pyrazol-3-yl)-1H-benzimidazole  \n",
      "0   -0.085010    0.000813                              0.003091  \n",
      "1   -0.122151    0.090910                             -0.047376  \n",
      "2    0.169587    0.095547                             -0.006808  \n",
      "3    0.072427    0.017219                              0.150876  \n",
      "4   -0.244132    0.102929                              0.035963  \n",
      "\n",
      "[5 rows x 5932 columns]\n"
     ]
    }
   ],
   "source": [
    "dataset = pd.read_csv('drug_embedding.csv')\n",
    "print(len(dataset))\n",
    "print(dataset.head())"
   ]
  },
  {
   "cell_type": "code",
   "execution_count": 4,
   "metadata": {},
   "outputs": [],
   "source": [
    "X = dataset.iloc[:, 10].values.reshape(-1, 1)  # Features\n",
    "Y = dataset.iloc[:, 8].values  # Labels\n",
    "X_train, X_test, Y_train, Y_test = train_test_split(X, Y, random_state=0, test_size=0.2)\n",
    "\n",
    "\n",
    "scaler = StandardScaler()\n",
    "X_train_scaled = scaler.fit_transform(X_train)\n",
    "X_test_scaled = scaler.transform(X_test)\n",
    "\n",
    "\n",
    "Y_train_categorical = pd.cut(Y_train, bins=5, labels=False)\n",
    "Y_test_categorical = pd.cut(Y_test, bins=5, labels=False)\n",
    "\n",
    "# k-NN classifier\n",
    "classifier = KNeighborsClassifier(n_neighbors=15, p=2, metric='euclidean')\n",
    "classifier.fit(X_train_scaled, Y_train_categorical)\n",
    "\n",
    "y_pred_categorical = classifier.predict(X_test_scaled)"
   ]
  },
  {
   "cell_type": "code",
   "execution_count": 4,
   "metadata": {},
   "outputs": [
    {
     "name": "stdout",
     "output_type": "stream",
     "text": [
      "confusion matrix [[ 0  0  1  3  0]\n",
      " [ 0  0  6  4  0]\n",
      " [ 0  0 15  8  0]\n",
      " [ 0  0  8  6  0]\n",
      " [ 0  0  4  5  0]]\n"
     ]
    }
   ],
   "source": [
    "conf = confusion_matrix(Y_test_categorical, y_pred_categorical)\n",
    "print('confusion matrix', conf)"
   ]
  },
  {
   "cell_type": "code",
   "execution_count": 5,
   "metadata": {},
   "outputs": [
    {
     "name": "stdout",
     "output_type": "stream",
     "text": [
      "F1 Score: 0.27175438596491225\n"
     ]
    }
   ],
   "source": [
    "f1 = f1_score(Y_test_categorical, y_pred_categorical, average='weighted') \n",
    "print(\"F1 Score:\", f1)"
   ]
  },
  {
   "cell_type": "code",
   "execution_count": 6,
   "metadata": {},
   "outputs": [
    {
     "name": "stdout",
     "output_type": "stream",
     "text": [
      "Accuracy Score: 0.35\n"
     ]
    }
   ],
   "source": [
    "accuracy = accuracy_score(Y_test_categorical, y_pred_categorical)\n",
    "print(\"Accuracy Score:\", accuracy)"
   ]
  }
 ],
 "metadata": {
  "kernelspec": {
   "display_name": "Python 3",
   "language": "python",
   "name": "python3"
  },
  "language_info": {
   "codemirror_mode": {
    "name": "ipython",
    "version": 3
   },
   "file_extension": ".py",
   "mimetype": "text/x-python",
   "name": "python",
   "nbconvert_exporter": "python",
   "pygments_lexer": "ipython3",
   "version": "3.12.1"
  }
 },
 "nbformat": 4,
 "nbformat_minor": 2
}
